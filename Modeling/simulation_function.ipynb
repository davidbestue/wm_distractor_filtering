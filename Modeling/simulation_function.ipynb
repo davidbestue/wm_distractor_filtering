{
 "cells": [
  {
   "cell_type": "code",
   "execution_count": null,
   "metadata": {},
   "outputs": [],
   "source": [
    "\n",
    "\n",
    "simulation(totalTime=6200, targ_onset = 200, dist_onset=3600, presentation_period=250, )\n",
    "\n",
    "simulation(totalTime, targ_onset, dist_onset, presentation_period, tauE==60, tauI==10, tauf==7000, taud==80, I0E==1.3, I0I==0.4, U==0.4,\n",
    "           GEE==0.016, GEI==0.015, GIE==0.012 , GII==0.007, sigE==0.06, sigI==0.04 ,  N==512 )\n",
    "\n",
    "def simulation(totalTime, N )\n",
    "\n",
    "dt=2;\n",
    "nsteps=int(floor(totalTime/dt));\n",
    "origin = pi\n",
    "\n",
    "\n",
    "\n",
    "targ_offset = targ_onset + presentation_period;\n",
    "\n",
    "dist_offset = dist_onset  + presentation_period\n",
    "\n",
    "n_stims=2; #2\n",
    "stim_sep = pi/16 ###13 --> 2   (13 attract, 9 solo 1, 5 repulsion, 2 nada)\n",
    "#stim_sep=0\n",
    "\n",
    "\n"
   ]
  }
 ],
 "metadata": {
  "kernelspec": {
   "display_name": "Python 3",
   "language": "python",
   "name": "python3"
  },
  "language_info": {
   "codemirror_mode": {
    "name": "ipython",
    "version": 3
   },
   "file_extension": ".py",
   "mimetype": "text/x-python",
   "name": "python",
   "nbconvert_exporter": "python",
   "pygments_lexer": "ipython3",
   "version": "3.5.6"
  }
 },
 "nbformat": 4,
 "nbformat_minor": 2
}
