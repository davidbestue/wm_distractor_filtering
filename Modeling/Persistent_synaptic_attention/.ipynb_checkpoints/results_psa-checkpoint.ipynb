{
 "cells": [
  {
   "cell_type": "code",
   "execution_count": 1,
   "metadata": {},
   "outputs": [],
   "source": [
    "from linares_plot import *\n",
    "import statsmodels.formula.api as smf"
   ]
  },
  {
   "cell_type": "code",
   "execution_count": 2,
   "metadata": {},
   "outputs": [
    {
     "data": {
      "text/html": [
       "<div>\n",
       "<style scoped>\n",
       "    .dataframe tbody tr th:only-of-type {\n",
       "        vertical-align: middle;\n",
       "    }\n",
       "\n",
       "    .dataframe tbody tr th {\n",
       "        vertical-align: top;\n",
       "    }\n",
       "\n",
       "    .dataframe thead th {\n",
       "        text-align: right;\n",
       "    }\n",
       "</style>\n",
       "<table border=\"1\" class=\"dataframe\">\n",
       "  <thead>\n",
       "    <tr style=\"text-align: right;\">\n",
       "      <th></th>\n",
       "      <th>bias_target</th>\n",
       "      <th>bias_dist</th>\n",
       "      <th>number_of_bumps</th>\n",
       "      <th>angle_separation</th>\n",
       "      <th>delay</th>\n",
       "      <th>order</th>\n",
       "    </tr>\n",
       "  </thead>\n",
       "  <tbody>\n",
       "    <tr>\n",
       "      <th>0</th>\n",
       "      <td>-0.92</td>\n",
       "      <td>0.0</td>\n",
       "      <td>1</td>\n",
       "      <td>120.0</td>\n",
       "      <td>0.2</td>\n",
       "      <td>1</td>\n",
       "    </tr>\n",
       "    <tr>\n",
       "      <th>1</th>\n",
       "      <td>2.13</td>\n",
       "      <td>0.0</td>\n",
       "      <td>1</td>\n",
       "      <td>120.0</td>\n",
       "      <td>0.2</td>\n",
       "      <td>1</td>\n",
       "    </tr>\n",
       "    <tr>\n",
       "      <th>2</th>\n",
       "      <td>-1.13</td>\n",
       "      <td>0.0</td>\n",
       "      <td>1</td>\n",
       "      <td>120.0</td>\n",
       "      <td>0.2</td>\n",
       "      <td>1</td>\n",
       "    </tr>\n",
       "    <tr>\n",
       "      <th>3</th>\n",
       "      <td>-1.42</td>\n",
       "      <td>0.0</td>\n",
       "      <td>1</td>\n",
       "      <td>120.0</td>\n",
       "      <td>0.2</td>\n",
       "      <td>1</td>\n",
       "    </tr>\n",
       "    <tr>\n",
       "      <th>4</th>\n",
       "      <td>-0.99</td>\n",
       "      <td>0.0</td>\n",
       "      <td>1</td>\n",
       "      <td>120.0</td>\n",
       "      <td>0.2</td>\n",
       "      <td>1</td>\n",
       "    </tr>\n",
       "    <tr>\n",
       "      <th>5</th>\n",
       "      <td>0.55</td>\n",
       "      <td>0.0</td>\n",
       "      <td>1</td>\n",
       "      <td>120.0</td>\n",
       "      <td>0.2</td>\n",
       "      <td>1</td>\n",
       "    </tr>\n",
       "    <tr>\n",
       "      <th>6</th>\n",
       "      <td>-1.51</td>\n",
       "      <td>0.0</td>\n",
       "      <td>1</td>\n",
       "      <td>120.0</td>\n",
       "      <td>0.2</td>\n",
       "      <td>1</td>\n",
       "    </tr>\n",
       "    <tr>\n",
       "      <th>7</th>\n",
       "      <td>0.16</td>\n",
       "      <td>0.0</td>\n",
       "      <td>1</td>\n",
       "      <td>120.0</td>\n",
       "      <td>0.2</td>\n",
       "      <td>1</td>\n",
       "    </tr>\n",
       "    <tr>\n",
       "      <th>8</th>\n",
       "      <td>-1.64</td>\n",
       "      <td>0.0</td>\n",
       "      <td>1</td>\n",
       "      <td>120.0</td>\n",
       "      <td>0.2</td>\n",
       "      <td>1</td>\n",
       "    </tr>\n",
       "    <tr>\n",
       "      <th>9</th>\n",
       "      <td>0.41</td>\n",
       "      <td>0.0</td>\n",
       "      <td>1</td>\n",
       "      <td>120.0</td>\n",
       "      <td>0.2</td>\n",
       "      <td>1</td>\n",
       "    </tr>\n",
       "  </tbody>\n",
       "</table>\n",
       "</div>"
      ],
      "text/plain": [
       "   bias_target  bias_dist  number_of_bumps  angle_separation  delay  order\n",
       "0        -0.92        0.0                1             120.0    0.2      1\n",
       "1         2.13        0.0                1             120.0    0.2      1\n",
       "2        -1.13        0.0                1             120.0    0.2      1\n",
       "3        -1.42        0.0                1             120.0    0.2      1\n",
       "4        -0.99        0.0                1             120.0    0.2      1\n",
       "5         0.55        0.0                1             120.0    0.2      1\n",
       "6        -1.51        0.0                1             120.0    0.2      1\n",
       "7         0.16        0.0                1             120.0    0.2      1\n",
       "8        -1.64        0.0                1             120.0    0.2      1\n",
       "9         0.41        0.0                1             120.0    0.2      1"
      ]
     },
     "execution_count": 2,
     "metadata": {},
     "output_type": "execute_result"
    }
   ],
   "source": [
    "df= o1 = pd.read_excel('res_sim.xlsx')\n",
    "df.head(10)"
   ]
  },
  {
   "cell_type": "code",
   "execution_count": 8,
   "metadata": {},
   "outputs": [],
   "source": [
    "## Function to remove outliers\n",
    "\n",
    "def remove_outlier_mult_columns(df_in, col_names):\n",
    "    ### column names is a list of the columns to remove outliers\n",
    "    outliers_booleans = []\n",
    "    for col_name in col_names:        \n",
    "        q1 = df_in[col_name].quantile(0.25)\n",
    "        q3 = df_in[col_name].quantile(0.75)\n",
    "        iqr = q3-q1 #Interquartile range\n",
    "        fence_low  = q1-1.5*iqr\n",
    "        fence_high = q3+1.5*iqr\n",
    "        #\n",
    "        inf_outliers = df_in[col_name] < fence_low ## outliers = 1\n",
    "        sup_outliers = df_in[col_name] > fence_high ## outliers = 1\n",
    "        outliers_booleans.append ( inf_outliers + sup_outliers )\n",
    "    \n",
    "    outliers_bool = sum(outliers_booleans)\n",
    "    outliers_bool[outliers_bool>=1] = 1\n",
    "    print( 'number of outliers: ' + str(sum(outliers_bool)) )\n",
    "    outliers_bool = outliers_bool == 0\n",
    "    \n",
    "    ###boxplots of outliers\n",
    "    fig = plt.figure()\n",
    "    fig.suptitle('Detection of outliers')\n",
    "    pallete = sns.color_palette(\"viridis\", n_colors=len(col_names), desat=1).as_hex()\n",
    "    for idx,col_name in enumerate(col_names):\n",
    "        ax1 = fig.add_subplot(1,len(col_names),idx+1)\n",
    "        sns.boxplot(df_in[col_name], orient=\"h\", ax=ax1, color=pallete[idx])\n",
    "    \n",
    "    ##\n",
    "    plt.show(block=False)\n",
    "    \n",
    "    \n",
    "    return df_in[outliers_bool]\n",
    "\n",
    "\n",
    "\n",
    "### df1 = remove_outlier_mult_columns(df, ['bias_target'])"
   ]
  },
  {
   "cell_type": "code",
   "execution_count": 4,
   "metadata": {},
   "outputs": [
    {
     "data": {
      "text/plain": [
       "array([120.  , 102.86,  90.  ,  72.  ,  51.43,  36.  ,  30.  ,  25.71,\n",
       "        20.  ])"
      ]
     },
     "execution_count": 4,
     "metadata": {},
     "output_type": "execute_result"
    }
   ],
   "source": [
    "ang_sep_ = df.angle_separation.unique()\n",
    "ang_sep_"
   ]
  },
  {
   "cell_type": "code",
   "execution_count": 13,
   "metadata": {},
   "outputs": [
    {
     "data": {
      "text/plain": [
       "Index(['bias_target', 'bias_dist', 'number_of_bumps', 'angle_separation',\n",
       "       'delay', 'order'],\n",
       "      dtype='object')"
      ]
     },
     "execution_count": 13,
     "metadata": {},
     "output_type": "execute_result"
    }
   ],
   "source": [
    "df.columns"
   ]
  },
  {
   "cell_type": "code",
   "execution_count": null,
   "metadata": {
    "scrolled": false
   },
   "outputs": [
    {
     "name": "stderr",
     "output_type": "stream",
     "text": [
      "C:\\Users\\David\\Anaconda3\\envs\\python3\\lib\\site-packages\\seaborn\\categorical.py:3666: UserWarning: The `factorplot` function has been renamed to `catplot`. The original name will be removed in a future release. Please update your code. Note that the default `kind` in `factorplot` (`'point'`) has changed `'strip'` in `catplot`.\n",
      "  warnings.warn(msg)\n",
      "C:\\Users\\David\\Anaconda3\\envs\\python3\\lib\\site-packages\\scipy\\stats\\stats.py:1713: FutureWarning: Using a non-tuple sequence for multidimensional indexing is deprecated; use `arr[tuple(seq)]` instead of `arr[seq]`. In the future this will be interpreted as an array index, `arr[np.array(seq)]`, which will result either in an error or a different result.\n",
      "  return np.add.reduce(sorted[indexer] * weights, axis=axis) / sumval\n"
     ]
    },
    {
     "data": {
      "image/png": "[encoded data removed]",
      "text/plain": [
       "<Figure size 589.875x360 with 1 Axes>"
      ]
     },
     "metadata": {},
     "output_type": "display_data"
    },
    {
     "name": "stdout",
     "output_type": "stream",
     "text": [
      "                            OLS Regression Results                            \n",
      "==============================================================================\n",
      "Dep. Variable:            bias_target   R-squared:                       0.039\n",
      "Model:                            OLS   Adj. R-squared:                  0.038\n",
      "Method:                 Least Squares   F-statistic:                     26.99\n",
      "Date:                Wed, 06 Nov 2019   Prob (F-statistic):           4.14e-17\n",
      "Time:                        10:29:05   Log-Likelihood:                -3511.3\n",
      "No. Observations:                2000   AIC:                             7031.\n",
      "Df Residuals:                    1996   BIC:                             7053.\n",
      "Df Model:                           3                                         \n",
      "Covariance Type:            nonrobust                                         \n",
      "===============================================================================\n",
      "                  coef    std err          t      P>|t|      [0.025      0.975]\n",
      "-------------------------------------------------------------------------------\n",
      "Intercept      -1.5129      0.144    -10.480      0.000      -1.796      -1.230\n",
      "delay           0.1238      0.029      4.247      0.000       0.067       0.181\n",
      "order           0.7282      0.091      7.976      0.000       0.549       0.907\n",
      "delay:order    -0.0662      0.018     -3.593      0.000      -0.102      -0.030\n",
      "==============================================================================\n",
      "Omnibus:                      608.638   Durbin-Watson:                   2.038\n",
      "Prob(Omnibus):                  0.000   Jarque-Bera (JB):            51285.136\n",
      "Skew:                          -0.446   Prob(JB):                         0.00\n",
      "Kurtosis:                      27.792   Cond. No.                         50.5\n",
      "==============================================================================\n",
      "\n",
      "Warnings:\n",
      "[1] Standard Errors assume that the covariance matrix of the errors is correctly specified.\n"
     ]
    },
    {
     "name": "stderr",
     "output_type": "stream",
     "text": [
      "C:\\Users\\David\\Anaconda3\\envs\\python3\\lib\\site-packages\\seaborn\\categorical.py:3666: UserWarning: The `factorplot` function has been renamed to `catplot`. The original name will be removed in a future release. Please update your code. Note that the default `kind` in `factorplot` (`'point'`) has changed `'strip'` in `catplot`.\n",
      "  warnings.warn(msg)\n"
     ]
    }
   ],
   "source": [
    "ang_sep_ = df.angle_separation.unique()\n",
    "\n",
    "for d in ang_sep_:\n",
    "    df1= df.loc[df['angle_separation']==d]\n",
    "    #df1 = remove_outlier_mult_columns(df1, ['bias_target'])\n",
    "    g = sns.factorplot(x=\"order\", y=\"bias_target\", hue='delay', ci=69, data=df1, kind='bar', palette='coolwarm', aspect=1.5)\n",
    "    sns.set_style('white')\n",
    "    plt.xlabel('Order', fontsize=16)\n",
    "    plt.ylabel('Interference', fontsize=16)\n",
    "    plt.xticks([0, 1], ['1', '2'], fontsize=14)\n",
    "    g.fig.suptitle('Distance: ' +str(d), fontsize=20, x=0.5, weight='demibold')\n",
    "    plt.show(block=False)\n",
    "    ## liniar model\n",
    "    result = smf.ols(formula=\"bias_target ~ delay*order \", data=df1).fit()\n",
    "    print(result.summary())\n"
   ]
  },
  {
   "cell_type": "code",
   "execution_count": null,
   "metadata": {},
   "outputs": [],
   "source": []
  }
 ],
 "metadata": {
  "kernelspec": {
   "display_name": "Python 3",
   "language": "python",
   "name": "python3"
  },
  "language_info": {
   "codemirror_mode": {
    "name": "ipython",
    "version": 3
   },
   "file_extension": ".py",
   "mimetype": "text/x-python",
   "name": "python",
   "nbconvert_exporter": "python",
   "pygments_lexer": "ipython3",
   "version": "3.5.6"
  }
 },
 "nbformat": 4,
 "nbformat_minor": 2
}
