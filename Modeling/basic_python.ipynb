{
 "cells": [
  {
   "cell_type": "code",
   "execution_count": 1,
   "metadata": {},
   "outputs": [],
   "source": [
    "#Libraries\n",
    "from math import floor, exp, sqrt, pi\n",
    "import cmath\n",
    "import numpy\n",
    "from numpy import e, cos, zeros, arange, roll, where, random, ones, mean, reshape, dot, array, flipud, pi, exp, dot, angle, degrees, shape, linspace\n",
    "import matplotlib.pyplot as plt\n",
    "from itertools import chain\n",
    "import scipy\n",
    "from scipy import special\n",
    "import seaborn as sns\n"
   ]
  },
  {
   "cell_type": "code",
   "execution_count": 32,
   "metadata": {},
   "outputs": [],
   "source": [
    "#Parameters\n",
    "\n",
    "totalTime=2000;\n",
    "dt=2;\n",
    "nsteps=int(floor(totalTime/dt));\n",
    "num_cicles=10;\n",
    "\n",
    "    \n",
    "N=512;\n",
    "origin = pi\n",
    "rE=zeros((N,1));\n",
    "rI=zeros((N,1));\n",
    "\n",
    "\n",
    "#temporal variable (largerT means smaller firing rate)\n",
    "tauE=  9#9; \n",
    "tauI=  4; \n",
    "\n",
    "#Conductances (larger G means larger firing rate). Diff cond. for connections\n",
    "GEE=  0.021\n",
    "GEI=  0.020 \n",
    "GIE=  0.01  \n",
    "GII=  0.07  \n",
    "I0E=  0.2##0.2; (as it decreases --> less bumps)\n",
    "I0I=  0.5##0.5; (as it increases --> less bumps)\n",
    "\n",
    "#Realted with noise\n",
    "sigE=  1.5 #1.5 #1 #0.5 ;\n",
    "sigI=  1.6 #1.6 #2 #1.3 ;\n",
    "\n",
    "#Stimulus (when on and off, separation between them and strenght)\n",
    "stim_onset = 100;\n",
    "stim_offset = 500;\n",
    "\n",
    "n_stims=1; #2\n",
    "stim_sep = pi/13 ###13 --> 2   (13 attract, 9 solo 1, 5 repulsion, 2 nada)\n",
    "#stim_sep=0\n",
    "\n",
    "kappa_stim1= 100 \n",
    "kappa_stim2= 100 \n",
    "\n",
    "\n",
    "kappa_E=  100  #100          original#600\n",
    "kappa_I=   2.75 #1.75 -2 .75#####3   #3    ###############0.5 - 5     original#5\n"
   ]
  },
  {
   "cell_type": "code",
   "execution_count": 33,
   "metadata": {},
   "outputs": [
    {
     "data": {
      "image/png": "[encoded data removed]",
      "text/plain": [
       "<Figure size 432x288 with 1 Axes>"
      ]
     },
     "metadata": {
      "needs_background": "light"
     },
     "output_type": "display_data"
    }
   ],
   "source": [
    "#Connectivities\n",
    "\n",
    "v_E=zeros((N));\n",
    "v_I=zeros((N));\n",
    "WE=zeros((N,N));\n",
    "WI=zeros((N,N));\n",
    "\n",
    "\n",
    "theta = [float(range(0,N)[i])/N*2*pi for i in range(0,N)] \n",
    "\n",
    "for i in range(0, N):\n",
    "    v_E_new=[e**(kappa_E*cos(theta[f]))/(2*pi*scipy.special.i0(kappa_E)) for f in range(0, len(theta))]    \n",
    "    v_I_new=[e**(kappa_I*cos(theta[f]))/(2*pi*scipy.special.i0(kappa_I)) for f in range(0, len(theta))]\n",
    "    ###    \n",
    "    vE_NEW=roll(v_E_new,i)\n",
    "    vI_NEW=roll(v_I_new,i) #to roll\n",
    "    ###    \n",
    "    WE[:,i]=vE_NEW\n",
    "    WI[:,i]=vI_NEW\n",
    "\n",
    "    \n",
    "    \n",
    "    \n",
    "plt.plot(WE[250, :])\n",
    "plt.plot(WI[250, :])\n",
    "plt.show(block=False)\n"
   ]
  },
  {
   "cell_type": "code",
   "execution_count": 34,
   "metadata": {},
   "outputs": [
    {
     "data": {
      "image/png": "[encoded data removed]",
      "text/plain": [
       "<Figure size 432x288 with 1 Axes>"
      ]
     },
     "metadata": {
      "needs_background": "light"
     },
     "output_type": "display_data"
    }
   ],
   "source": [
    "# stims\n",
    "import numpy as np \n",
    "stimulus1=zeros((N))\n",
    "stimulus2=zeros((N))\n",
    "\n",
    "for i in range(0, N):\n",
    "    stimulus1[i]=2*e**(kappa_stim1*cos(theta[i] + origin - stim_sep)) / (2*pi*scipy.special.i0(kappa_stim1)) \n",
    "    stimulus2[i]=2*e**(kappa_stim2*cos(theta[i] + origin + stim_sep)) / (2*pi*scipy.special.i0(kappa_stim2)) \n",
    "\n",
    "\n",
    "stimulus1 = stimulus1+ np.random.normal(0, 0.4, N)\n",
    "stimulus2 = stimulus2+ np.random.normal(0, 0.4, N)\n",
    "\n",
    "    \n",
    "if n_stims==2:\n",
    "    stimulus= (stimulus1 + stimulus2);\n",
    "    stimulus=reshape(stimulus, (N,1))\n",
    "elif n_stims==1:\n",
    "    stimulus2=zeros((N));\n",
    "    stimulus= (stimulus1 + stimulus2);\n",
    "    stimulus=stimulus1\n",
    "    stimulus=reshape(stimulus, (N,1))\n",
    "\n",
    "\n",
    "######################\n",
    "\n",
    "\n",
    "stimon = floor(stim_onset/dt);\n",
    "stimoff = floor(stim_offset/dt);\n",
    "\n",
    "plt.plot(stimulus)\n",
    "plt.show(block=False)"
   ]
  },
  {
   "cell_type": "code",
   "execution_count": null,
   "metadata": {},
   "outputs": [],
   "source": [
    "#Simulation\n",
    "\n",
    "\n",
    "#generation of the noise and the connectivity between inhib and exit\n",
    "RE=zeros((N,nsteps));\n",
    "RI=zeros((N,nsteps));\n",
    "\n",
    "\n",
    "f = lambda x : x*x*(x>0)*(x<1) + reshape(array([cmath.sqrt(4*x[i]-3) for i in range(0, len(x))]).real, (N,1)) * (x>=1)\n",
    "\n",
    "\n",
    "### diferential equations\n",
    "for i in range(0, nsteps):\n",
    "    noiseE = sigE*random.randn(N,1);\n",
    "    noiseI = sigI*random.randn(N,1);\n",
    "    \n",
    "    #differential equations for connectivity\n",
    "    IE= GEE*dot(WE,rE) - GIE*dot(WI,rI) + I0E*ones((N,1)); #Antes el primer término era: GEE*WE*rE ahora solo esta WE_GEE ya que hay una GEE para cada distancia\n",
    "    II= GEI*dot(WE,rE) +  (I0I-GII*mean(rI))*ones((N,1));\n",
    "    \n",
    "    if i>stimon and i<stimoff:\n",
    "        IE=IE+stimulus;\n",
    "        II=II+stimulus;\n",
    "    \n",
    "    \n",
    "    #rates of exit and inhib\n",
    "    rE = rE + (f(IE) - rE + noiseE)*dt/tauE;\n",
    "    rI = rI + (f(II) - rI + noiseI)*dt/tauI;\n",
    "    \n",
    "    rEr=reshape(rE, N)\n",
    "    rIr=reshape(rI, N)\n",
    "    #drawnow\n",
    "    RE[:,i] = rEr;\n",
    "    RI[:,i] = rIr;\n",
    "    \n",
    "\n",
    "\n",
    "\n",
    "\n"
   ]
  },
  {
   "cell_type": "code",
   "execution_count": null,
   "metadata": {},
   "outputs": [],
   "source": [
    "### Plot of activity\n",
    "RE_sorted=flipud(RE)\n",
    "plt.figure(figsize=(9,6))\n",
    "sns.heatmap(RE_sorted, cmap='viridis')\n",
    "plt.title('BUMP activity')\n",
    "plt.ylabel('Angle')\n",
    "plt.xlabel('time')\n",
    "plt.yticks([])\n",
    "plt.xticks([])\n",
    "\n",
    "plt.yticks([N/8, 3*N/8, 5*N/8, 7*N/8 ] ,['45','135','225', '315'])\n",
    "\n",
    "plt.plot([stim_onset/2, stim_onset/2,], [0+20, N-20], 'k-', label='onset')\n",
    "plt.plot([stim_offset/2, stim_offset/2,], [0+20, N-20], 'k--', label='offset')\n",
    "\n",
    "plt.legend()\n",
    "plt.show(block=False)"
   ]
  },
  {
   "cell_type": "code",
   "execution_count": null,
   "metadata": {},
   "outputs": [],
   "source": []
  }
 ],
 "metadata": {
  "kernelspec": {
   "display_name": "Python 3",
   "language": "python",
   "name": "python3"
  },
  "language_info": {
   "codemirror_mode": {
    "name": "ipython",
    "version": 3
   },
   "file_extension": ".py",
   "mimetype": "text/x-python",
   "name": "python",
   "nbconvert_exporter": "python",
   "pygments_lexer": "ipython3",
   "version": "3.5.6"
  }
 },
 "nbformat": 4,
 "nbformat_minor": 2
}
