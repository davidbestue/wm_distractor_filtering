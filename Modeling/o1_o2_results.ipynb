{
 "cells": [
  {
   "cell_type": "code",
   "execution_count": 2,
   "metadata": {},
   "outputs": [],
   "source": [
    "import pandas as pd\n",
    "import matplotlib.pyplot as plt\n",
    "import seaborn as sns"
   ]
  },
  {
   "cell_type": "code",
   "execution_count": 12,
   "metadata": {},
   "outputs": [],
   "source": [
    "o1 = pd.read_excel('order_1.xlsx')\n",
    "o2 = pd.read_excel('order_2.xlsx')"
   ]
  },
  {
   "cell_type": "code",
   "execution_count": 22,
   "metadata": {},
   "outputs": [
    {
     "name": "stderr",
     "output_type": "stream",
     "text": [
      "C:\\Users\\David\\Anaconda3\\envs\\python3\\lib\\site-packages\\seaborn\\categorical.py:3666: UserWarning: The `factorplot` function has been renamed to `catplot`. The original name will be removed in a future release. Please update your code. Note that the default `kind` in `factorplot` (`'point'`) has changed `'strip'` in `catplot`.\n",
      "  warnings.warn(msg)\n",
      "C:\\Users\\David\\Anaconda3\\envs\\python3\\lib\\site-packages\\scipy\\stats\\stats.py:1713: FutureWarning: Using a non-tuple sequence for multidimensional indexing is deprecated; use `arr[tuple(seq)]` instead of `arr[seq]`. In the future this will be interpreted as an array index, `arr[np.array(seq)]`, which will result either in an error or a different result.\n",
      "  return np.add.reduce(sorted[indexer] * weights, axis=axis) / sumval\n"
     ]
    },
    {
     "data": {
      "image/png": "[encoded data removed]",
      "text/plain": [
       "<Figure size 589.875x360 with 1 Axes>"
      ]
     },
     "metadata": {},
     "output_type": "display_data"
    },
    {
     "name": "stdout",
     "output_type": "stream",
     "text": [
      "                            OLS Regression Results                            \n",
      "==============================================================================\n",
      "Dep. Variable:           interference   R-squared:                       0.997\n",
      "Model:                            OLS   Adj. R-squared:                  0.997\n",
      "Method:                 Least Squares   F-statistic:                 4.464e+04\n",
      "Date:                Tue, 28 May 2019   Prob (F-statistic):               0.00\n",
      "Time:                        15:43:52   Log-Likelihood:                 51.936\n",
      "No. Observations:                 400   AIC:                            -95.87\n",
      "Df Residuals:                     396   BIC:                            -79.91\n",
      "Df Model:                           3                                         \n",
      "Covariance Type:            nonrobust                                         \n",
      "===============================================================================\n",
      "                  coef    std err          t      P>|t|      [0.025      0.975]\n",
      "-------------------------------------------------------------------------------\n",
      "Intercept      20.6568      0.049    420.006      0.000      20.560      20.753\n",
      "delay          -2.4049      0.010   -242.135      0.000      -2.424      -2.385\n",
      "order          -7.0908      0.031   -227.960      0.000      -7.152      -7.030\n",
      "delay:order     1.0041      0.006    159.848      0.000       0.992       1.016\n",
      "==============================================================================\n",
      "Omnibus:                        2.728   Durbin-Watson:                   1.887\n",
      "Prob(Omnibus):                  0.256   Jarque-Bera (JB):                2.952\n",
      "Skew:                           0.010   Prob(JB):                        0.229\n",
      "Kurtosis:                       3.420   Cond. No.                         50.5\n",
      "==============================================================================\n",
      "\n",
      "Warnings:\n",
      "[1] Standard Errors assume that the covariance matrix of the errors is correctly specified.\n"
     ]
    }
   ],
   "source": [
    "df=pd.concat([o1, o2], ignore_index=True)\n",
    "\n",
    "g = sns.factorplot(x=\"order\", y=\"interference\", hue='delay', ci=95, data=df,\n",
    "                   kind='bar', palette='Blues', aspect=1.5)\n",
    "\n",
    "sns.set_style('white')\n",
    "plt.xlabel('order', fontsize=12)\n",
    "plt.ylabel('distance cw-ccw', fontsize=12)\n",
    "g.fig.suptitle('Close distance efects', fontsize=16, x=0.5, weight='demibold')\n",
    "\n",
    "plt.show()\n",
    "\n",
    "import statsmodels.formula.api as smf\n",
    "result = smf.ols(formula=\"interference ~ delay*order \", data=df).fit()\n",
    "print(result.summary())"
   ]
  },
  {
   "cell_type": "code",
   "execution_count": null,
   "metadata": {},
   "outputs": [],
   "source": []
  }
 ],
 "metadata": {
  "kernelspec": {
   "display_name": "Python 3",
   "language": "python",
   "name": "python3"
  },
  "language_info": {
   "codemirror_mode": {
    "name": "ipython",
    "version": 3
   },
   "file_extension": ".py",
   "mimetype": "text/x-python",
   "name": "python",
   "nbconvert_exporter": "python",
   "pygments_lexer": "ipython3",
   "version": "3.5.6"
  }
 },
 "nbformat": 4,
 "nbformat_minor": 2
}
