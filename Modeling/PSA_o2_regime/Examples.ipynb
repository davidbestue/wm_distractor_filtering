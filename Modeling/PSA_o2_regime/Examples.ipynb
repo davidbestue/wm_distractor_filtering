{
 "cells": [
  {
   "cell_type": "code",
   "execution_count": null,
   "metadata": {},
   "outputs": [],
   "source": [
    "from model_psa_o2 import *"
   ]
  },
  {
   "cell_type": "code",
   "execution_count": null,
   "metadata": {},
   "outputs": [],
   "source": [
    "from model_psa import *\n",
    "\n",
    "numcores = multiprocessing.cpu_count()-3\n",
    "numcores\n",
    "\n",
    "\n",
    "numcores = multiprocessing.cpu_count() - 1\n",
    "separations = [3 for i in range(500)] + [3.5 for i in range(500)] + [4 for i in range(500)] + [5 for i in range(500)] +  [7 for i in range(500)] + [10 for i in range(500)] +  [12 for i in range(500)] +  [14 for i in range(500)] +  [18 for i in range(500)]\n",
    "\n",
    "\n",
    "print('1_02')\n",
    "outputs_1_02 = Parallel(n_jobs = numcores)(delayed(model)(totalTime=6200, \n",
    "                                                          targ_onset = 200,\n",
    "                                                          dist_onset=550, \n",
    "                                                          presentation_period=250,\n",
    "                                                          separation=sep, \n",
    "                                                          inhib_curr=False, \n",
    "                                                          time_ex_input=0, \n",
    "                                                          sigE=1.2,\n",
    "                                                          GEE=0.016,\n",
    "                                                          plot_connectivity=False, \n",
    "                                                          plot_dyniamic=False, \n",
    "                                                          plot_heatmap=False, \n",
    "                                                          plot_fit=False ) for sep in separations) \n"
   ]
  }
 ],
 "metadata": {
  "kernelspec": {
   "display_name": "Python 3",
   "language": "python",
   "name": "python3"
  },
  "language_info": {
   "codemirror_mode": {
    "name": "ipython",
    "version": 3
   },
   "file_extension": ".py",
   "mimetype": "text/x-python",
   "name": "python",
   "nbconvert_exporter": "python",
   "pygments_lexer": "ipython3",
   "version": "3.5.6"
  }
 },
 "nbformat": 4,
 "nbformat_minor": 2
}
