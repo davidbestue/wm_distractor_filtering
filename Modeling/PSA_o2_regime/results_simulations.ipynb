{
 "cells": [
  {
   "cell_type": "code",
   "execution_count": 1,
   "metadata": {},
   "outputs": [],
   "source": [
    "from linares_plot import *"
   ]
  },
  {
   "cell_type": "code",
   "execution_count": 4,
   "metadata": {},
   "outputs": [
    {
     "data": {
      "text/html": [
       "<div>\n",
       "<style scoped>\n",
       "    .dataframe tbody tr th:only-of-type {\n",
       "        vertical-align: middle;\n",
       "    }\n",
       "\n",
       "    .dataframe tbody tr th {\n",
       "        vertical-align: top;\n",
       "    }\n",
       "\n",
       "    .dataframe thead th {\n",
       "        text-align: right;\n",
       "    }\n",
       "</style>\n",
       "<table border=\"1\" class=\"dataframe\">\n",
       "  <thead>\n",
       "    <tr style=\"text-align: right;\">\n",
       "      <th></th>\n",
       "      <th>interference</th>\n",
       "      <th>order</th>\n",
       "      <th>delay</th>\n",
       "      <th>distance</th>\n",
       "    </tr>\n",
       "  </thead>\n",
       "  <tbody>\n",
       "    <tr>\n",
       "      <th>0</th>\n",
       "      <td>10.54</td>\n",
       "      <td>1</td>\n",
       "      <td>short</td>\n",
       "      <td>close</td>\n",
       "    </tr>\n",
       "    <tr>\n",
       "      <th>1</th>\n",
       "      <td>11.35</td>\n",
       "      <td>1</td>\n",
       "      <td>short</td>\n",
       "      <td>close</td>\n",
       "    </tr>\n",
       "    <tr>\n",
       "      <th>2</th>\n",
       "      <td>12.37</td>\n",
       "      <td>1</td>\n",
       "      <td>short</td>\n",
       "      <td>close</td>\n",
       "    </tr>\n",
       "    <tr>\n",
       "      <th>3</th>\n",
       "      <td>11.73</td>\n",
       "      <td>1</td>\n",
       "      <td>short</td>\n",
       "      <td>close</td>\n",
       "    </tr>\n",
       "    <tr>\n",
       "      <th>4</th>\n",
       "      <td>13.62</td>\n",
       "      <td>1</td>\n",
       "      <td>short</td>\n",
       "      <td>close</td>\n",
       "    </tr>\n",
       "  </tbody>\n",
       "</table>\n",
       "</div>"
      ],
      "text/plain": [
       "   interference  order  delay distance\n",
       "0         10.54      1  short    close\n",
       "1         11.35      1  short    close\n",
       "2         12.37      1  short    close\n",
       "3         11.73      1  short    close\n",
       "4         13.62      1  short    close"
      ]
     },
     "execution_count": 4,
     "metadata": {},
     "output_type": "execute_result"
    }
   ],
   "source": [
    "df = pd.read_excel('C:\\\\Users\\\\David\\\\Desktop\\\\IDIBAPS\\\\simulations_distractor_cluster\\\\results_psa_o2.xlsx')\n",
    "df.head()"
   ]
  },
  {
   "cell_type": "code",
   "execution_count": 5,
   "metadata": {},
   "outputs": [
    {
     "name": "stderr",
     "output_type": "stream",
     "text": [
      "C:\\Users\\David\\Anaconda3\\envs\\python3\\lib\\site-packages\\seaborn\\categorical.py:3666: UserWarning: The `factorplot` function has been renamed to `catplot`. The original name will be removed in a future release. Please update your code. Note that the default `kind` in `factorplot` (`'point'`) has changed `'strip'` in `catplot`.\n",
      "  warnings.warn(msg)\n",
      "C:\\Users\\David\\Anaconda3\\envs\\python3\\lib\\site-packages\\scipy\\stats\\stats.py:1713: FutureWarning: Using a non-tuple sequence for multidimensional indexing is deprecated; use `arr[tuple(seq)]` instead of `arr[seq]`. In the future this will be interpreted as an array index, `arr[np.array(seq)]`, which will result either in an error or a different result.\n",
      "  return np.add.reduce(sorted[indexer] * weights, axis=axis) / sumval\n"
     ]
    },
    {
     "data": {
      "image/png": "[encoded data removed]",
      "text/plain": [
       "<Figure size 540x360 with 1 Axes>"
      ]
     },
     "metadata": {},
     "output_type": "display_data"
    }
   ],
   "source": [
    "%config InlineBackend.figure_format = 'png'\n",
    "\n",
    "sns.set_context(\"poster\", font_scale=1.1)\n",
    "sns.set_style(\"ticks\")\n",
    "\n",
    "\n",
    "col_02 = '#457b9d'\n",
    "col_7 = '#a82a33'\n",
    "palette=[col_02, col_7]\n",
    "\n",
    "g = sns.factorplot(x=\"order\", y=\"interference\", hue='delay', ci=95, data=df.loc[df['distance']=='close'],\n",
    "                   kind='bar', palette=[col_02, col_7], aspect=1.5, legend=False)\n",
    "\n",
    "\n",
    "sns.set_style('white')\n",
    "plt.xticks([0, 1], ['1', '2'], fontsize=20)\n",
    "plt.yticks([0, 5, 10, 15], fontsize=20)\n",
    "\n",
    "plt.gca().spines['right'].set_visible(False)  ## aesthetics                                                                              # remove right spines\n",
    "plt.gca().spines['top'].set_visible(False)                                                                                  # remove top spines\n",
    "plt.gca().get_xaxis().tick_bottom()                                                                                         \n",
    "plt.gca().get_yaxis().tick_left()\n",
    "plt.gca().tick_params(direction='in') #direction\n",
    "#adjust_spines(plt.gca(), ['left', 'bottom'])\n",
    "\n",
    "## Legend\n",
    "l = plt.legend(loc=1, frameon=False, prop={'size': 16})\n",
    "for i_h, h_idx in enumerate(['short', 'long']):\n",
    "    l.get_texts()[i_h].set_text(h_idx)\n",
    "    l.legendHandles[i_h].set_visible(False);\n",
    "    l.get_texts()[i_h].set_color(palette[i_h]);\n",
    "\n",
    "    \n",
    "#\n",
    "plt.ylabel(r'attraction to dist. ($^\\circ$)', fontsize=25);\n",
    "plt.xlabel('order', fontsize=25);\n",
    "\n",
    "plt.title('simulated close: SOA & order', fontsize=20);"
   ]
  },
  {
   "cell_type": "code",
   "execution_count": 7,
   "metadata": {},
   "outputs": [
    {
     "name": "stderr",
     "output_type": "stream",
     "text": [
      "C:\\Users\\David\\Anaconda3\\envs\\python3\\lib\\site-packages\\seaborn\\categorical.py:3666: UserWarning: The `factorplot` function has been renamed to `catplot`. The original name will be removed in a future release. Please update your code. Note that the default `kind` in `factorplot` (`'point'`) has changed `'strip'` in `catplot`.\n",
      "  warnings.warn(msg)\n",
      "C:\\Users\\David\\Anaconda3\\envs\\python3\\lib\\site-packages\\scipy\\stats\\stats.py:1713: FutureWarning: Using a non-tuple sequence for multidimensional indexing is deprecated; use `arr[tuple(seq)]` instead of `arr[seq]`. In the future this will be interpreted as an array index, `arr[np.array(seq)]`, which will result either in an error or a different result.\n",
      "  return np.add.reduce(sorted[indexer] * weights, axis=axis) / sumval\n"
     ]
    },
    {
     "data": {
      "image/png": "[encoded data removed]",
      "text/plain": [
       "<Figure size 540x360 with 1 Axes>"
      ]
     },
     "metadata": {},
     "output_type": "display_data"
    }
   ],
   "source": [
    "%config InlineBackend.figure_format = 'png'\n",
    "\n",
    "sns.set_context(\"poster\", font_scale=1.1)\n",
    "sns.set_style(\"ticks\")\n",
    "\n",
    "\n",
    "col_02 = '#457b9d'\n",
    "col_7 = '#a82a33'\n",
    "palette=[col_02, col_7]\n",
    "\n",
    "g = sns.factorplot(x=\"order\", y=\"interference\", hue='delay', ci=95, data=df.loc[df['distance']=='far'],\n",
    "                   kind='bar', palette=[col_02, col_7], aspect=1.5, legend=False)\n",
    "\n",
    "\n",
    "sns.set_style('white')\n",
    "plt.xticks([0, 1], ['1', '2'], fontsize=20)\n",
    "#plt.yticks([0, 5, 10, 15], fontsize=20)\n",
    "\n",
    "plt.gca().spines['right'].set_visible(False)  ## aesthetics                                                                              # remove right spines\n",
    "plt.gca().spines['top'].set_visible(False)                                                                                  # remove top spines\n",
    "plt.gca().get_xaxis().tick_bottom()                                                                                         \n",
    "plt.gca().get_yaxis().tick_left()\n",
    "plt.gca().tick_params(direction='in') #direction\n",
    "#adjust_spines(plt.gca(), ['left', 'bottom'])\n",
    "\n",
    "## Legend\n",
    "l = plt.legend(loc=4, frameon=False, prop={'size': 16})\n",
    "for i_h, h_idx in enumerate(['short', 'long']):\n",
    "    l.get_texts()[i_h].set_text(h_idx)\n",
    "    l.legendHandles[i_h].set_visible(False);\n",
    "    l.get_texts()[i_h].set_color(palette[i_h]);\n",
    "\n",
    "    \n",
    "#\n",
    "plt.ylabel(r'attraction to dist. ($^\\circ$)', fontsize=25);\n",
    "plt.xlabel('order', fontsize=25);\n",
    "\n",
    "plt.title('simulated close: SOA & order', fontsize=20);"
   ]
  },
  {
   "cell_type": "code",
   "execution_count": 2,
   "metadata": {},
   "outputs": [
    {
     "data": {
      "text/html": [
       "<div>\n",
       "<style scoped>\n",
       "    .dataframe tbody tr th:only-of-type {\n",
       "        vertical-align: middle;\n",
       "    }\n",
       "\n",
       "    .dataframe tbody tr th {\n",
       "        vertical-align: top;\n",
       "    }\n",
       "\n",
       "    .dataframe thead th {\n",
       "        text-align: right;\n",
       "    }\n",
       "</style>\n",
       "<table border=\"1\" class=\"dataframe\">\n",
       "  <thead>\n",
       "    <tr style=\"text-align: right;\">\n",
       "      <th></th>\n",
       "      <th>interference</th>\n",
       "      <th>order</th>\n",
       "      <th>delay</th>\n",
       "      <th>distance</th>\n",
       "    </tr>\n",
       "  </thead>\n",
       "  <tbody>\n",
       "    <tr>\n",
       "      <th>0</th>\n",
       "      <td>-2.77</td>\n",
       "      <td>1</td>\n",
       "      <td>short</td>\n",
       "      <td>far</td>\n",
       "    </tr>\n",
       "    <tr>\n",
       "      <th>1</th>\n",
       "      <td>-2.03</td>\n",
       "      <td>1</td>\n",
       "      <td>short</td>\n",
       "      <td>far</td>\n",
       "    </tr>\n",
       "    <tr>\n",
       "      <th>2</th>\n",
       "      <td>-1.28</td>\n",
       "      <td>1</td>\n",
       "      <td>short</td>\n",
       "      <td>far</td>\n",
       "    </tr>\n",
       "    <tr>\n",
       "      <th>3</th>\n",
       "      <td>-4.93</td>\n",
       "      <td>1</td>\n",
       "      <td>short</td>\n",
       "      <td>far</td>\n",
       "    </tr>\n",
       "    <tr>\n",
       "      <th>4</th>\n",
       "      <td>0.31</td>\n",
       "      <td>1</td>\n",
       "      <td>short</td>\n",
       "      <td>far</td>\n",
       "    </tr>\n",
       "  </tbody>\n",
       "</table>\n",
       "</div>"
      ],
      "text/plain": [
       "   interference  order  delay distance\n",
       "0         -2.77      1  short      far\n",
       "1         -2.03      1  short      far\n",
       "2         -1.28      1  short      far\n",
       "3         -4.93      1  short      far\n",
       "4          0.31      1  short      far"
      ]
     },
     "execution_count": 2,
     "metadata": {},
     "output_type": "execute_result"
    }
   ],
   "source": [
    "df = pd.read_excel('C:\\\\Users\\\\David\\\\Desktop\\\\IDIBAPS\\\\simulations_distractor_cluster\\\\results_psa_o2_far.xlsx')\n",
    "df.head()"
   ]
  },
  {
   "cell_type": "code",
   "execution_count": null,
   "metadata": {},
   "outputs": [],
   "source": []
  }
 ],
 "metadata": {
  "kernelspec": {
   "display_name": "Python 3",
   "language": "python",
   "name": "python3"
  },
  "language_info": {
   "codemirror_mode": {
    "name": "ipython",
    "version": 3
   },
   "file_extension": ".py",
   "mimetype": "text/x-python",
   "name": "python",
   "nbconvert_exporter": "python",
   "pygments_lexer": "ipython3",
   "version": "3.5.6"
  }
 },
 "nbformat": 4,
 "nbformat_minor": 2
}
