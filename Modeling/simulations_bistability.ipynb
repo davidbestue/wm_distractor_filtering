{
 "cells": [
  {
   "cell_type": "code",
   "execution_count": 16,
   "metadata": {},
   "outputs": [],
   "source": [
    "%run \"simulation_function.ipynb\""
   ]
  },
  {
   "cell_type": "code",
   "execution_count": 17,
   "metadata": {},
   "outputs": [],
   "source": [
    "from math import floor, exp, sqrt, pi\n",
    "import cmath\n",
    "import numpy\n",
    "from numpy import e, cos, zeros, arange, roll, where, random, ones, mean, reshape, dot, array, flipud, pi, exp, dot, angle, degrees, shape, linspace\n",
    "import matplotlib.pyplot as plt\n",
    "from itertools import chain\n",
    "import scipy\n",
    "from scipy import special\n",
    "import numpy as np \n",
    "import seaborn as sns\n",
    "import time\n",
    "from joblib import Parallel, delayed\n",
    "import multiprocessing\n",
    "import pandas as pd"
   ]
  },
  {
   "cell_type": "code",
   "execution_count": 18,
   "metadata": {},
   "outputs": [
    {
     "data": {
      "text/plain": [
       "8"
      ]
     },
     "execution_count": 18,
     "metadata": {},
     "output_type": "execute_result"
    }
   ],
   "source": [
    "numcores = multiprocessing.cpu_count()\n",
    "numcores"
   ]
  },
  {
   "cell_type": "code",
   "execution_count": 20,
   "metadata": {},
   "outputs": [
    {
     "data": {
      "text/plain": [
       "[0.0,\n",
       " 0.068,\n",
       " 0.136,\n",
       " 0.205,\n",
       " 0.273,\n",
       " 0.341,\n",
       " 0.409,\n",
       " 0.477,\n",
       " 0.545,\n",
       " 0.614,\n",
       " 0.682,\n",
       " 0.75,\n",
       " 0.818,\n",
       " 0.886,\n",
       " 0.955,\n",
       " 1.023,\n",
       " 1.091,\n",
       " 1.159,\n",
       " 1.227,\n",
       " 1.295,\n",
       " 1.364,\n",
       " 1.432,\n",
       " 1.5,\n",
       " 1.568,\n",
       " 1.636,\n",
       " 1.705,\n",
       " 1.773,\n",
       " 1.841,\n",
       " 1.909,\n",
       " 1.977,\n",
       " 2.045,\n",
       " 2.114,\n",
       " 2.182,\n",
       " 2.25,\n",
       " 2.318,\n",
       " 2.386,\n",
       " 2.455,\n",
       " 2.523,\n",
       " 2.591,\n",
       " 2.659,\n",
       " 2.727,\n",
       " 2.795,\n",
       " 2.864,\n",
       " 2.932,\n",
       " 3.0]"
      ]
     },
     "execution_count": 20,
     "metadata": {},
     "output_type": "execute_result"
    }
   ],
   "source": [
    "I0Es =  np.linspace(0, 3, 45) #\n",
    "I0Es = 1*[round(I0Es[i],3) for i in range(len(I0Es))]\n",
    "I0Es"
   ]
  },
  {
   "cell_type": "code",
   "execution_count": null,
   "metadata": {},
   "outputs": [],
   "source": [
    "outputs_bump = Parallel(n_jobs = numcores)(delayed(simulation)(totalTime=3000, targ_onset = 50, dist_onset=155000, presentation_period=400, separation=16, plots=False, sigE=0.7, I0E=i_t ) for i_t in I0Es) \n",
    "\n"
   ]
  },
  {
   "cell_type": "code",
   "execution_count": null,
   "metadata": {},
   "outputs": [],
   "source": [
    "outputs_alone = Parallel(n_jobs = numcores)(delayed(simulation)(totalTime=3000, targ_onset = 15000,\n",
    "           dist_onset=155000, presentation_period=400,\n",
    "           separation=16, plots=False, sigE=0.7, I0E=i_t ) for i_t in I0Es) "
   ]
  },
  {
   "cell_type": "code",
   "execution_count": null,
   "metadata": {},
   "outputs": [],
   "source": [
    "outputs_alone"
   ]
  },
  {
   "cell_type": "code",
   "execution_count": null,
   "metadata": {},
   "outputs": [],
   "source": [
    "dfb = pd.DataFrame(outputs_bump)\n",
    "dfb.columns=['rE', 'I0E']\n",
    "dfb['stim']='one'\n",
    "\n",
    "dfa = pd.DataFrame(outputs_alone)\n",
    "dfa.columns=['rE', 'I0E']\n",
    "dfa['stim']='alone'\n",
    "\n",
    "df=pd.concat([dfa, dfb])\n",
    "\n",
    "df['rE'] = [df.rE.iloc[i][0] for i in range(len(df))]"
   ]
  },
  {
   "cell_type": "code",
   "execution_count": null,
   "metadata": {},
   "outputs": [],
   "source": [
    "## plot\n",
    "fig = plt.figure()\n",
    "fig.set_size_inches(6, 4)\n",
    "fig.tight_layout()\n",
    "fig.suptitle('Bistability regime', fontsize=20, x=0.5, weight='demibold')\n",
    "ax1 = fig.add_subplot(111)\n",
    "sns.lineplot(ax= ax1, x=\"I0E\", y=\"rE\", hue='stim', data=df)\n",
    "sns.set_style('white')\n",
    "plt.xlabel('I0E', fontsize=16)\n",
    "plt.ylabel('rE', fontsize=16)\n",
    "plt.gca().spines['right'].set_visible(False)\n",
    "plt.gca().spines['top'].set_visible(False)\n",
    "plt.gca().get_xaxis().tick_bottom()\n",
    "plt.gca().get_yaxis().tick_left()\n",
    "plt.show(block=False)\n",
    "\n",
    "\n",
    "df.to_excel('bistability_10.xlsx')"
   ]
  },
  {
   "cell_type": "code",
   "execution_count": null,
   "metadata": {},
   "outputs": [],
   "source": []
  }
 ],
 "metadata": {
  "kernelspec": {
   "display_name": "Python 3",
   "language": "python",
   "name": "python3"
  },
  "language_info": {
   "codemirror_mode": {
    "name": "ipython",
    "version": 3
   },
   "file_extension": ".py",
   "mimetype": "text/x-python",
   "name": "python",
   "nbconvert_exporter": "python",
   "pygments_lexer": "ipython3",
   "version": "3.5.6"
  }
 },
 "nbformat": 4,
 "nbformat_minor": 2
}
