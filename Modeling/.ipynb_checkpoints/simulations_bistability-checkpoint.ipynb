{
 "cells": [
  {
   "cell_type": "code",
   "execution_count": 31,
   "metadata": {},
   "outputs": [],
   "source": [
    "%run \"simulation_function.ipynb\""
   ]
  },
  {
   "cell_type": "code",
   "execution_count": 2,
   "metadata": {},
   "outputs": [],
   "source": [
    "from math import floor, exp, sqrt, pi\n",
    "import cmath\n",
    "import numpy\n",
    "from numpy import e, cos, zeros, arange, roll, where, random, ones, mean, reshape, dot, array, flipud, pi, exp, dot, angle, degrees, shape, linspace\n",
    "import matplotlib.pyplot as plt\n",
    "from itertools import chain\n",
    "import scipy\n",
    "from scipy import special\n",
    "import numpy as np \n",
    "import seaborn as sns\n",
    "import time\n",
    "from joblib import Parallel, delayed\n",
    "import multiprocessing\n",
    "import pandas as pd"
   ]
  },
  {
   "cell_type": "code",
   "execution_count": 3,
   "metadata": {},
   "outputs": [
    {
     "data": {
      "text/plain": [
       "8"
      ]
     },
     "execution_count": 3,
     "metadata": {},
     "output_type": "execute_result"
    }
   ],
   "source": [
    "numcores = multiprocessing.cpu_count()\n",
    "numcores"
   ]
  },
  {
   "cell_type": "code",
   "execution_count": 29,
   "metadata": {},
   "outputs": [],
   "source": [
    "I0Es =  np.linspace(0, 3, 100) #\n",
    "I0Es=list(I0Es)\n",
    "\n"
   ]
  },
  {
   "cell_type": "code",
   "execution_count": null,
   "metadata": {},
   "outputs": [],
   "source": [
    "outputs_bump = Parallel(n_jobs = numcores)(delayed(simulation)(totalTime=3000, targ_onset = 50,\n",
    "           dist_onset=155000, presentation_period=400,\n",
    "           separation=16, plots=False, sigE=0.7, I0E=i_t ) for i_t in I0Es) \n",
    "\n"
   ]
  },
  {
   "cell_type": "code",
   "execution_count": null,
   "metadata": {},
   "outputs": [],
   "source": [
    "outputs_alone = Parallel(n_jobs = numcores)(delayed(simulation)(totalTime=3000, targ_onset = 15000,\n",
    "           dist_onset=155000, presentation_period=400,\n",
    "           separation=16, plots=False, sigE=0.7, I0E=i_t ) for i_t in IOEs) "
   ]
  },
  {
   "cell_type": "code",
   "execution_count": null,
   "metadata": {},
   "outputs": [],
   "source": [
    "dfb = pd.DataFrame(outputs_bump)\n",
    "dfb.columns=['rE', 'I0E']\n",
    "dfb['stim']='one'\n",
    "\n",
    "dfa = pd.DataFrame(outputs_alone)\n",
    "dfa.columns=['rE', 'I0E']\n",
    "dfa['stim']='alone'\n",
    "\n",
    "\n",
    "df=pd.concat([dfa, dfb])\n",
    "\n",
    "## plot\n",
    "fig = plt.figure()\n",
    "fig.set_size_inches(6, 4)\n",
    "fig.tight_layout()\n",
    "fig.suptitle('Bistability regime', fontsize=20, x=0.5, weight='demibold')\n",
    "ax1 = fig.add_subplot(111)\n",
    "sns.lineplot(ax= ax1, x=\"I0E\", y=\"rE\", hue='stim', data=df)\n",
    "sns.set_style('white')\n",
    "plt.xlabel('I0E', fontsize=16)\n",
    "plt.ylabel('rE', fontsize=16)\n",
    "plt.gca().spines['right'].set_visible(False)\n",
    "plt.gca().spines['top'].set_visible(False)\n",
    "plt.gca().get_xaxis().tick_bottom()\n",
    "plt.gca().get_yaxis().tick_left()\n",
    "plt.show(block=False)\n",
    "\n",
    "\n",
    "df.to_excel('bistabilityt.xlsx')"
   ]
  }
 ],
 "metadata": {
  "kernelspec": {
   "display_name": "Python 3",
   "language": "python",
   "name": "python3"
  },
  "language_info": {
   "codemirror_mode": {
    "name": "ipython",
    "version": 3
   },
   "file_extension": ".py",
   "mimetype": "text/x-python",
   "name": "python",
   "nbconvert_exporter": "python",
   "pygments_lexer": "ipython3",
   "version": "3.5.6"
  }
 },
 "nbformat": 4,
 "nbformat_minor": 2
}
