{
 "cells": [
  {
   "cell_type": "code",
   "execution_count": 2,
   "metadata": {},
   "outputs": [],
   "source": [
    "import pandas as pd\n",
    "import matplotlib.pyplot as plt\n",
    "import seaborn as sns"
   ]
  },
  {
   "cell_type": "code",
   "execution_count": 12,
   "metadata": {},
   "outputs": [],
   "source": [
    "o1 = pd.read_excel('order_1.xlsx')\n",
    "o2 = pd.read_excel('order_2.xlsx')"
   ]
  },
  {
   "cell_type": "code",
   "execution_count": 21,
   "metadata": {},
   "outputs": [
    {
     "name": "stderr",
     "output_type": "stream",
     "text": [
      "C:\\Users\\David\\Anaconda3\\envs\\python3\\lib\\site-packages\\seaborn\\categorical.py:3666: UserWarning: The `factorplot` function has been renamed to `catplot`. The original name will be removed in a future release. Please update your code. Note that the default `kind` in `factorplot` (`'point'`) has changed `'strip'` in `catplot`.\n",
      "  warnings.warn(msg)\n",
      "C:\\Users\\David\\Anaconda3\\envs\\python3\\lib\\site-packages\\scipy\\stats\\stats.py:1713: FutureWarning: Using a non-tuple sequence for multidimensional indexing is deprecated; use `arr[tuple(seq)]` instead of `arr[seq]`. In the future this will be interpreted as an array index, `arr[np.array(seq)]`, which will result either in an error or a different result.\n",
      "  return np.add.reduce(sorted[indexer] * weights, axis=axis) / sumval\n"
     ]
    },
    {
     "data": {
      "image/png": "[encoded data removed]",
      "text/plain": [
       "<Figure size 589.875x360 with 1 Axes>"
      ]
     },
     "metadata": {},
     "output_type": "display_data"
    },
    {
     "name": "stdout",
     "output_type": "stream",
     "text": [
      "                            OLS Regression Results                            \n",
      "==============================================================================\n",
      "Dep. Variable:           interference   R-squared:                       0.807\n",
      "Model:                            OLS   Adj. R-squared:                  0.806\n",
      "Method:                 Least Squares   F-statistic:                     829.1\n",
      "Date:                Tue, 28 May 2019   Prob (F-statistic):          1.83e-142\n",
      "Time:                        15:42:36   Log-Likelihood:                -784.55\n",
      "No. Observations:                 400   AIC:                             1575.\n",
      "Df Residuals:                     397   BIC:                             1587.\n",
      "Df Model:                           2                                         \n",
      "Covariance Type:            nonrobust                                         \n",
      "==============================================================================\n",
      "                 coef    std err          t      P>|t|      [0.025      0.975]\n",
      "------------------------------------------------------------------------------\n",
      "Intercept     15.2346      0.288     52.915      0.000      14.669      15.801\n",
      "delay         -0.8988      0.025    -35.395      0.000      -0.949      -0.849\n",
      "order         -3.4760      0.173    -20.131      0.000      -3.815      -3.137\n",
      "==============================================================================\n",
      "Omnibus:                        0.003   Durbin-Watson:                   0.048\n",
      "Prob(Omnibus):                  0.998   Jarque-Bera (JB):               62.588\n",
      "Skew:                           0.007   Prob(JB):                     2.57e-14\n",
      "Kurtosis:                       1.062   Cond. No.                         19.6\n",
      "==============================================================================\n",
      "\n",
      "Warnings:\n",
      "[1] Standard Errors assume that the covariance matrix of the errors is correctly specified.\n"
     ]
    }
   ],
   "source": [
    "df=pd.concat([o1, o2], ignore_index=True)\n",
    "\n",
    "g = sns.factorplot(x=\"order\", y=\"interference\", hue='delay', ci=69, data=df,\n",
    "                   kind='bar', palette='Blues', aspect=1.5)\n",
    "\n",
    "sns.set_style('white')\n",
    "plt.xlabel('order', fontsize=12)\n",
    "plt.ylabel('distance cw-ccw', fontsize=12)\n",
    "g.fig.suptitle('Close distance efects', fontsize=16, x=0.5, weight='demibold')\n",
    "\n",
    "plt.show()\n",
    "\n",
    "import statsmodels.formula.api as smf\n",
    "result = smf.ols(formula=\"interference ~ delay*order \", data=df).fit()\n",
    "print(result.summary())"
   ]
  },
  {
   "cell_type": "code",
   "execution_count": null,
   "metadata": {},
   "outputs": [],
   "source": []
  }
 ],
 "metadata": {
  "kernelspec": {
   "display_name": "Python 3",
   "language": "python",
   "name": "python3"
  },
  "language_info": {
   "codemirror_mode": {
    "name": "ipython",
    "version": 3
   },
   "file_extension": ".py",
   "mimetype": "text/x-python",
   "name": "python",
   "nbconvert_exporter": "python",
   "pygments_lexer": "ipython3",
   "version": "3.5.6"
  }
 },
 "nbformat": 4,
 "nbformat_minor": 2
}
