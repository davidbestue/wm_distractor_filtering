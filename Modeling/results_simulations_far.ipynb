{
 "cells": [
  {
   "cell_type": "code",
   "execution_count": null,
   "metadata": {},
   "outputs": [],
   "source": [
    "import pandas as pd\n",
    "import matplotlib.pyplot as plt\n",
    "import seaborn as sns\n",
    "import statsmodels.formula.api as smf\n",
    "%config InlineBackend.figure_format = 'svg'"
   ]
  },
  {
   "cell_type": "code",
   "execution_count": null,
   "metadata": {},
   "outputs": [],
   "source": [
    "df = pd.read_excel('simulations_far.xlsx')"
   ]
  },
  {
   "cell_type": "markdown",
   "metadata": {},
   "source": [
    "##### Far (close)"
   ]
  },
  {
   "cell_type": "code",
   "execution_count": null,
   "metadata": {},
   "outputs": [],
   "source": [
    "ang_sep_min =min(df.angle_separation.unique())\n",
    "g = sns.factorplot(x=\"order\", y=\"bias_target\", hue='delay', ci=95, data=df.loc[df['angle_separation']==ang_sep_min],\n",
    "                   kind='bar', palette='coolwarm', aspect=1.5)\n",
    "\n",
    "\n",
    "sns.set_style('white')\n",
    "plt.xlabel('order', fontsize=16)\n",
    "plt.ylabel('interference', fontsize=16)\n",
    "plt.xticks([0, 1], ['1', '2'], fontsize=14)\n",
    "\n",
    "g.fig.suptitle('Simulations: Order & Delay', fontsize=20, x=0.5, weight='demibold')\n",
    "plt.show(block=False)\n",
    "\n",
    "\n",
    "result = smf.ols(formula=\"interference ~ delay*order (3.5) \", data=df.loc[df['angle_separation']==ang_sep_min]).fit()\n",
    "print(result.summary())"
   ]
  },
  {
   "cell_type": "markdown",
   "metadata": {},
   "source": [
    "##### Far (far)"
   ]
  },
  {
   "cell_type": "code",
   "execution_count": null,
   "metadata": {},
   "outputs": [],
   "source": [
    "ang_sep_max =max(df.angle_separation.unique())\n",
    "g = sns.factorplot(x=\"order\", y=\"bias_target\", hue='delay', ci=95, data=df.loc[df['angle_separation']==ang_sep_max],\n",
    "                   kind='bar', palette='coolwarm', aspect=1.5)\n",
    "\n",
    "\n",
    "sns.set_style('white')\n",
    "plt.xlabel('order', fontsize=16)\n",
    "plt.ylabel('interference', fontsize=16)\n",
    "plt.xticks([0, 1], ['1', '2'], fontsize=14)\n",
    "\n",
    "g.fig.suptitle('Simulations: Order & Delay', fontsize=20, x=0.5, weight='demibold')\n",
    "plt.show(block=False)\n",
    "\n",
    "\n",
    "result = smf.ols(formula=\"interference ~ delay*order (3)\", data=df.loc[df['angle_separation']==ang_sep_max]).fit()\n",
    "print(result.summary())"
   ]
  }
 ],
 "metadata": {
  "kernelspec": {
   "display_name": "Python 3",
   "language": "python",
   "name": "python3"
  },
  "language_info": {
   "codemirror_mode": {
    "name": "ipython",
    "version": 3
   },
   "file_extension": ".py",
   "mimetype": "text/x-python",
   "name": "python",
   "nbconvert_exporter": "python",
   "pygments_lexer": "ipython3",
   "version": "3.5.6"
  }
 },
 "nbformat": 4,
 "nbformat_minor": 2
}
