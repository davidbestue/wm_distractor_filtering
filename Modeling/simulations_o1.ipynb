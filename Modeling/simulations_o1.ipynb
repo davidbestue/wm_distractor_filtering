{
 "cells": [
  {
   "cell_type": "code",
   "execution_count": null,
   "metadata": {},
   "outputs": [],
   "source": [
    "# import nbimporter\n",
    "# from simulation_function import *"
   ]
  },
  {
   "cell_type": "code",
   "execution_count": 12,
   "metadata": {},
   "outputs": [],
   "source": [
    "from math import floor, exp, sqrt, pi\n",
    "import cmath\n",
    "import numpy\n",
    "from numpy import e, cos, zeros, arange, roll, where, random, ones, mean, reshape, dot, array, flipud, pi, exp, dot, angle, degrees, shape, linspace\n",
    "import matplotlib.pyplot as plt\n",
    "from itertools import chain\n",
    "import scipy\n",
    "from scipy import special\n",
    "import numpy as np \n",
    "import seaborn as sns\n",
    "import time\n",
    "from joblib import Parallel, delayed\n",
    "import multiprocessing\n"
   ]
  },
  {
   "cell_type": "code",
   "execution_count": 8,
   "metadata": {},
   "outputs": [
    {
     "data": {
      "text/plain": [
       "8"
      ]
     },
     "execution_count": 8,
     "metadata": {},
     "output_type": "execute_result"
    }
   ],
   "source": [
    "numcores = multiprocessing.cpu_count()\n",
    "numcores"
   ]
  },
  {
   "cell_type": "code",
   "execution_count": 11,
   "metadata": {},
   "outputs": [],
   "source": [
    "## Discrete condition (simulations)\n",
    "short_delay_cond = [450+100 for i in range(100)]\n",
    "long_delay_cond = [450+3500 for i in range(100)]\n",
    "onset_distractor_discrete = short_delay_cond + long_delay_cond\n",
    "\n",
    "lns =  np.linspace(450, 5800, 100) #\n",
    "onset_distractor_cont = 2*[int(lns[i]) for i in range(len(lns))]"
   ]
  },
  {
   "cell_type": "code",
   "execution_count": null,
   "metadata": {},
   "outputs": [],
   "source": [
    "outputs_discrete = Parallel(n_jobs = numcores)(delayed(simulation)(totalTime=6200, targ_onset=200,\n",
    "                               dist_onset=Onset, presentation_period=250,\n",
    "                               separation=16, plots=False ) for Onset in onset_distractor_discrete) "
   ]
  },
  {
   "cell_type": "code",
   "execution_count": null,
   "metadata": {},
   "outputs": [],
   "source": [
    "outputs_continuous = Parallel(n_jobs = numcores)(delayed(simulation)(totalTime=6200, targ_onset=200,\n",
    "                               dist_onset=Onset, presentation_period=250,\n",
    "                               separation=16, plots=False ) for Onset in onset_distractor_cont) "
   ]
  },
  {
   "cell_type": "code",
   "execution_count": null,
   "metadata": {},
   "outputs": [],
   "source": [
    "df = pd.DataFrame(outputs)\n",
    "df.columns=['interference', 'delay']\n",
    "\n",
    "\n",
    "## Continuous\n",
    "fig = plt.figure()\n",
    "fig.set_size_inches(10, 4)\n",
    "fig.tight_layout()\n",
    "fig.suptitle('Interference')\n",
    "ax1 = fig.add_subplot(111)\n",
    "sns.lineplot(ax= ax1, x=\"delay\", y=\"interference\", data=df)\n",
    "plt.show(block=False)\n",
    "\n",
    "\n",
    "## Interesting conditions\n",
    "h = sns.factorplot( x=\"delay\", y=\"interference\", kind='bar', data=df, size=6, aspect=1)\n",
    "plt.gca().title.set_text('Main effect: Response')\n",
    "plt.gca().set_xlabel('delay')\n",
    "plt.gca().set_ylabel('Interference')\n",
    "plt.gca().spines['right'].set_visible(False)\n",
    "plt.gca().spines['top'].set_visible(False)\n",
    "plt.gca().get_xaxis().tick_bottom()\n",
    "plt.gca().get_yaxis().tick_left()\n",
    "plt.show(block=False)\n"
   ]
  }
 ],
 "metadata": {
  "kernelspec": {
   "display_name": "Python 3",
   "language": "python",
   "name": "python3"
  },
  "language_info": {
   "codemirror_mode": {
    "name": "ipython",
    "version": 3
   },
   "file_extension": ".py",
   "mimetype": "text/x-python",
   "name": "python",
   "nbconvert_exporter": "python",
   "pygments_lexer": "ipython3",
   "version": "3.5.6"
  }
 },
 "nbformat": 4,
 "nbformat_minor": 2
}
